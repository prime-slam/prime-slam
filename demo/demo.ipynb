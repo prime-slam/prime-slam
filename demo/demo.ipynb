{
 "cells": [
  {
   "cell_type": "code",
   "execution_count": 1,
   "metadata": {},
   "outputs": [],
   "source": [
    "import os\n",
    "import sys\n",
    "\n",
    "module_path = os.path.abspath(os.path.join(\"..\"))\n",
    "if module_path not in sys.path:\n",
    "    sys.path.append(module_path)"
   ]
  },
  {
   "cell_type": "code",
   "execution_count": 2,
   "metadata": {},
   "outputs": [
    {
     "name": "stdout",
     "output_type": "stream",
     "text": [
      "Jupyter environment detected. Enabling Open3D WebVisualizer.\n",
      "[Open3D INFO] WebRTC GUI backend enabled.\n",
      "[Open3D INFO] WebRTCWindowSystem: HTTP handshake server disabled.\n"
     ]
    }
   ],
   "source": [
    "import numpy as np\n",
    "import open3d as o3d\n",
    "\n",
    "from functools import partial\n",
    "from pathlib import Path\n",
    "from skimage import io\n",
    "from skimage.feature import match_descriptors\n",
    "\n",
    "\n",
    "from src.description.points.orb_descriptor import ORBDescriptor\n",
    "from src.detection.points.orb import ORB\n",
    "from src.keyframe_selection.every_nth_keyframe_selector import EveryNthKeyframeSelector\n",
    "from src.observation.observation_creator import ObservationsCreator\n",
    "from src.projection.point_projection import PointProjector\n",
    "from src.geometry.transform import make_homogeneous_matrix\n",
    "from src.pose_estimation.rgbd_point_pose_estimator import (\n",
    "    RGBDPointPoseEstimator,\n",
    ")\n",
    "from src.sensor.depth import DepthImage\n",
    "from src.sensor.rgb import RGBImage\n",
    "from src.sensor.rgbd import RGBDImage\n",
    "from src.slam.backend import G2OPrimeSLAMBackend\n",
    "from src.slam.frontend import PrimeSLAMFrontend"
   ]
  },
  {
   "cell_type": "code",
   "execution_count": 3,
   "metadata": {},
   "outputs": [],
   "source": [
    "def get_point_cloud(points_3d):\n",
    "    point_cloud = o3d.geometry.PointCloud()\n",
    "    point_cloud.points = o3d.utility.Vector3dVector(points_3d)\n",
    "\n",
    "    return point_cloud\n",
    "\n",
    "\n",
    "def get_line_set(lines_3d):\n",
    "    lines_3d = lines_3d.reshape(-1, 2, 3)\n",
    "    line_set = o3d.geometry.LineSet()\n",
    "    points = []\n",
    "    lines = []\n",
    "\n",
    "    for i, edges in enumerate(lines_3d):\n",
    "        points.append(edges[0])\n",
    "        points.append(edges[1])\n",
    "        lines.append((2 * i, 2 * i + 1))\n",
    "\n",
    "    line_set.points = o3d.utility.Vector3dVector(points)\n",
    "    line_set.lines = o3d.utility.Vector2iVector(lines)\n",
    "    line_set.paint_uniform_color([0, 1, 0])\n",
    "\n",
    "    return line_set"
   ]
  },
  {
   "cell_type": "code",
   "execution_count": 4,
   "metadata": {},
   "outputs": [],
   "source": [
    "images_path = Path(\"./data/rgb\")\n",
    "depth_path = Path(\"./data/depth\")\n",
    "intrinsics_path = Path(\"./data/intrinsics.txt\")\n",
    "\n",
    "images_paths = sorted(images_path.iterdir())\n",
    "depth_paths = sorted(depth_path.iterdir())\n",
    "intrinsics = make_homogeneous_matrix(np.genfromtxt(intrinsics_path))\n",
    "depth_scaler = 5000\n",
    "images_number = len(depth_paths)"
   ]
  },
  {
   "cell_type": "code",
   "execution_count": 5,
   "metadata": {},
   "outputs": [],
   "source": [
    "orb_creator = ObservationsCreator(\n",
    "    ORB(nfeatures=1000),\n",
    "    ORBDescriptor(),\n",
    "    partial(match_descriptors, metric=\"hamming\", max_ratio=0.8),\n",
    "    PointProjector(),\n",
    "    RGBDPointPoseEstimator(intrinsics, 30),\n",
    "    \"orb\",\n",
    ")"
   ]
  },
  {
   "cell_type": "code",
   "execution_count": 7,
   "metadata": {},
   "outputs": [],
   "source": [
    "images = [io.imread(path) for path in images_paths]\n",
    "depths = [io.imread(path) for path in depth_paths]\n",
    "\n",
    "frames = [\n",
    "    RGBDImage(RGBImage(img), DepthImage(depth, intrinsics, depth_scaler))\n",
    "    for img, depth in zip(images, depths)\n",
    "]\n",
    "keyframe_selector = EveryNthKeyframeSelector(n=1)\n",
    "\n",
    "slam = PrimeSLAMFrontend(\n",
    "    [orb_creator],\n",
    "    keyframe_selector,\n",
    "    init_pose=np.eye(4),\n",
    ")\n",
    "\n",
    "for frame in frames:\n",
    "    slam.process_frame(frame)\n",
    "\n",
    "projector = PointProjector()\n",
    "backend = G2OPrimeSLAMBackend(intrinsics)\n",
    "optimized_poses, optimized_points = backend.optimize(slam.graph)\n",
    "\n",
    "o3d.visualization.draw_geometries(\n",
    "    [\n",
    "        get_point_cloud(np.array(optimized_points)).paint_uniform_color(\n",
    "            (0, 1, 0)\n",
    "        ),\n",
    "    ]\n",
    ")"
   ]
  },
  {
   "cell_type": "markdown",
   "source": [],
   "metadata": {
    "collapsed": false
   }
  }
 ],
 "metadata": {
  "kernelspec": {
   "display_name": "metrics",
   "language": "python",
   "name": "metrics"
  },
  "language_info": {
   "codemirror_mode": {
    "name": "ipython",
    "version": 3
   },
   "file_extension": ".py",
   "mimetype": "text/x-python",
   "name": "python",
   "nbconvert_exporter": "python",
   "pygments_lexer": "ipython3",
   "version": "3.9.16"
  }
 },
 "nbformat": 4,
 "nbformat_minor": 1
}
