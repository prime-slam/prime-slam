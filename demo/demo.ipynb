{
 "cells": [
  {
   "cell_type": "code",
   "execution_count": 10,
   "metadata": {
    "collapsed": true
   },
   "outputs": [],
   "source": [
    "import os\n",
    "import sys\n",
    "\n",
    "module_path = os.path.abspath(os.path.join(\"..\"))\n",
    "if module_path not in sys.path:\n",
    "    sys.path.append(module_path)"
   ]
  },
  {
   "cell_type": "code",
   "execution_count": 11,
   "outputs": [],
   "source": [
    "import numpy as np\n",
    "import open3d as o3d\n",
    "\n",
    "from pathlib import Path\n",
    "from skimage import io\n",
    "\n",
    "from src.detection.points.orb import ORB\n",
    "from src.detection.points.sift import SIFT\n",
    "from src.matching.points.orb_matcher import ORBMatcher\n",
    "from src.matching.points.sift_matcher import SIFTMatcher\n",
    "from src.relative_pose_estimation.rgbd_point_pose_estimator import (\n",
    "    RGBDPointPoseEstimator,\n",
    ")\n",
    "from src.geometry.transform import make_homogeneous_matrix\n",
    "from src.keyframe_selector import EveryNthKeyframeSelector\n",
    "from src.sensor.depth import DepthImage\n",
    "from src.sensor.rgb import RGBImage\n",
    "from src.sensor.rgbd import RGBDImage\n",
    "from src.slam.frontend import PrimeSLAMFrontend"
   ],
   "metadata": {
    "collapsed": false
   }
  },
  {
   "cell_type": "code",
   "execution_count": 12,
   "outputs": [],
   "source": [
    "def get_point_cloud(points_3d):\n",
    "    point_cloud = o3d.geometry.PointCloud()\n",
    "    points = []\n",
    "\n",
    "    for point in points_3d:\n",
    "        points.append(point)\n",
    "\n",
    "    point_cloud.points = o3d.utility.Vector3dVector(points)\n",
    "\n",
    "    return point_cloud"
   ],
   "metadata": {
    "collapsed": false
   }
  },
  {
   "cell_type": "code",
   "execution_count": 13,
   "outputs": [],
   "source": [
    "images_path = Path(\"./rgb\")\n",
    "depth_path = Path(\"./depth\")\n",
    "intrinsics_path = Path(\"./intrinsics.txt\")\n",
    "\n",
    "images_paths = sorted(images_path.iterdir())\n",
    "depth_paths = sorted(depth_path.iterdir())\n",
    "intrinsics = make_homogeneous_matrix(np.genfromtxt(intrinsics_path))\n",
    "depth_scaler = 5000\n",
    "images_number = len(depth_paths)"
   ],
   "metadata": {
    "collapsed": false
   }
  },
  {
   "cell_type": "code",
   "execution_count": 14,
   "outputs": [],
   "source": [
    "features = \"ORB\"\n",
    "\n",
    "if features == \"ORB\":\n",
    "    extractor = ORB(nfeatures=1000)\n",
    "    matcher = ORBMatcher()\n",
    "else:\n",
    "    extractor = SIFT()\n",
    "    matcher = SIFTMatcher()"
   ],
   "metadata": {
    "collapsed": false
   }
  },
  {
   "cell_type": "code",
   "execution_count": 15,
   "outputs": [],
   "source": [
    "images = [io.imread(images_paths[i]) for i in range(images_number)]\n",
    "depths = [io.imread(depth_paths[i]) for i in range(images_number)]\n",
    "\n",
    "frames = [\n",
    "    RGBDImage(RGBImage(img), DepthImage(depth, intrinsics, depth_scaler))\n",
    "    for img, depth in zip(images, depths)\n",
    "]\n",
    "relative_pose_estimator = RGBDPointPoseEstimator(\n",
    "    intrinsics, reprojection_threshold=30\n",
    ")\n",
    "keyframe_selector = EveryNthKeyframeSelector(n=1)\n",
    "\n",
    "slam = PrimeSLAMFrontend(\n",
    "    extractor,\n",
    "    matcher,\n",
    "    relative_pose_estimator,\n",
    "    keyframe_selector,\n",
    "    init_pose=np.eye(4),\n",
    ")\n",
    "\n",
    "for frame in frames:\n",
    "    slam.process_frame(frame)"
   ],
   "metadata": {
    "collapsed": false
   }
  },
  {
   "cell_type": "code",
   "execution_count": 8,
   "outputs": [],
   "source": [
    "keyframes = slam.keyframes\n",
    "abs_poses = [kf.world_to_camera_transform for kf in keyframes]\n",
    "depths = [kf.sensor_measurement.depth for kf in keyframes]\n",
    "features_batch = [kf.features for kf in keyframes]\n",
    "keypoints_batch = [\n",
    "    np.array([np.array([feature.x, feature.y]) for feature in features])\n",
    "    for features in features_batch\n",
    "]\n",
    "\n",
    "keypoints_3D_batch = [\n",
    "    depth.back_project_points(keypoints)\n",
    "    for keypoints, depth in zip(keypoints_batch, depths)\n",
    "]\n",
    "clouds = [\n",
    "    get_point_cloud(keypoints_3D).transform(np.linalg.inv(pose))\n",
    "    for keypoints_3D, pose in zip(keypoints_3D_batch, abs_poses)\n",
    "]\n",
    "o3d.visualization.draw_geometries(clouds)"
   ],
   "metadata": {
    "collapsed": false
   }
  }
 ],
 "metadata": {
  "kernelspec": {
   "name": "metrics",
   "language": "python",
   "display_name": "metrics"
  },
  "language_info": {
   "codemirror_mode": {
    "name": "ipython",
    "version": 2
   },
   "file_extension": ".py",
   "mimetype": "text/x-python",
   "name": "python",
   "nbconvert_exporter": "python",
   "pygments_lexer": "ipython2",
   "version": "2.7.6"
  }
 },
 "nbformat": 4,
 "nbformat_minor": 0
}
